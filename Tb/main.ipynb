{
 "cells": [
  {
   "cell_type": "code",
   "execution_count": 1,
   "metadata": {},
   "outputs": [],
   "source": [
    "import glob"
   ]
  },
  {
   "cell_type": "code",
   "execution_count": 2,
   "metadata": {},
   "outputs": [],
   "source": [
    "import pandas as pd"
   ]
  },
  {
   "cell_type": "code",
   "execution_count": 3,
   "metadata": {},
   "outputs": [],
   "source": [
    "from intervaltree import Interval, IntervalTree"
   ]
  },
  {
   "cell_type": "code",
   "execution_count": 4,
   "metadata": {},
   "outputs": [],
   "source": [
    "target_seq = 'F11.fasta'"
   ]
  },
  {
   "cell_type": "code",
   "execution_count": 5,
   "metadata": {},
   "outputs": [],
   "source": [
    "target_true_embl = 'F11.original.embl'"
   ]
  },
  {
   "cell_type": "code",
   "execution_count": 6,
   "metadata": {},
   "outputs": [],
   "source": [
    "mode = 'Strain'"
   ]
  },
  {
   "cell_type": "markdown",
   "metadata": {
    "heading_collapsed": true
   },
   "source": [
    "## Utils"
   ]
  },
  {
   "cell_type": "code",
   "execution_count": 7,
   "metadata": {
    "hidden": true
   },
   "outputs": [],
   "source": [
    "def save_as_coord(df, file):\n",
    "    with open(file, 'w') as file:\n",
    "        for row in df.itertuples():\n",
    "            line = '{:05}'.format(row.id) + ' ' + '{: >7}'.format(row.start) + ' ' + '{: >7}'.format(row.end)\n",
    "            file.write(line + '\\n')"
   ]
  },
  {
   "cell_type": "markdown",
   "metadata": {
    "heading_collapsed": true
   },
   "source": [
    "## True Target Genes"
   ]
  },
  {
   "cell_type": "code",
   "execution_count": 8,
   "metadata": {
    "hidden": true
   },
   "outputs": [],
   "source": [
    "!python embl_locus.py $target_true_embl locus > target_true_genes.coords"
   ]
  },
  {
   "cell_type": "code",
   "execution_count": 9,
   "metadata": {
    "hidden": true
   },
   "outputs": [],
   "source": [
    "target_true_genes = pd.read_csv('target_true_genes.coords', header=None, delim_whitespace=True)\n",
    "target_true_genes.columns = ['id', 'start', 'end', 'locus_tag']"
   ]
  },
  {
   "cell_type": "code",
   "execution_count": 10,
   "metadata": {
    "hidden": true
   },
   "outputs": [
    {
     "data": {
      "text/html": [
       "<div>\n",
       "<style scoped>\n",
       "    .dataframe tbody tr th:only-of-type {\n",
       "        vertical-align: middle;\n",
       "    }\n",
       "\n",
       "    .dataframe tbody tr th {\n",
       "        vertical-align: top;\n",
       "    }\n",
       "\n",
       "    .dataframe thead th {\n",
       "        text-align: right;\n",
       "    }\n",
       "</style>\n",
       "<table border=\"1\" class=\"dataframe\">\n",
       "  <thead>\n",
       "    <tr style=\"text-align: right;\">\n",
       "      <th></th>\n",
       "      <th>id</th>\n",
       "      <th>start</th>\n",
       "      <th>end</th>\n",
       "      <th>locus_tag</th>\n",
       "    </tr>\n",
       "  </thead>\n",
       "  <tbody>\n",
       "    <tr>\n",
       "      <th>0</th>\n",
       "      <td>1</td>\n",
       "      <td>102</td>\n",
       "      <td>1625</td>\n",
       "      <td>TBFG_10001</td>\n",
       "    </tr>\n",
       "    <tr>\n",
       "      <th>1</th>\n",
       "      <td>2</td>\n",
       "      <td>2153</td>\n",
       "      <td>3361</td>\n",
       "      <td>TBFG_10002</td>\n",
       "    </tr>\n",
       "    <tr>\n",
       "      <th>2</th>\n",
       "      <td>3</td>\n",
       "      <td>3381</td>\n",
       "      <td>4538</td>\n",
       "      <td>TBFG_10003</td>\n",
       "    </tr>\n",
       "    <tr>\n",
       "      <th>3</th>\n",
       "      <td>4</td>\n",
       "      <td>4535</td>\n",
       "      <td>5098</td>\n",
       "      <td>TBFG_10004</td>\n",
       "    </tr>\n",
       "    <tr>\n",
       "      <th>4</th>\n",
       "      <td>5</td>\n",
       "      <td>5224</td>\n",
       "      <td>7368</td>\n",
       "      <td>TBFG_10005</td>\n",
       "    </tr>\n",
       "  </tbody>\n",
       "</table>\n",
       "</div>"
      ],
      "text/plain": [
       "   id  start   end   locus_tag\n",
       "0   1    102  1625  TBFG_10001\n",
       "1   2   2153  3361  TBFG_10002\n",
       "2   3   3381  4538  TBFG_10003\n",
       "3   4   4535  5098  TBFG_10004\n",
       "4   5   5224  7368  TBFG_10005"
      ]
     },
     "execution_count": 10,
     "metadata": {},
     "output_type": "execute_result"
    }
   ],
   "source": [
    "target_true_genes.head()"
   ]
  },
  {
   "cell_type": "code",
   "execution_count": 11,
   "metadata": {
    "hidden": true
   },
   "outputs": [
    {
     "data": {
      "text/plain": [
       "(3991, 4)"
      ]
     },
     "execution_count": 11,
     "metadata": {},
     "output_type": "execute_result"
    }
   ],
   "source": [
    "target_true_genes.shape"
   ]
  },
  {
   "cell_type": "markdown",
   "metadata": {
    "hidden": true
   },
   "source": [
    "### Minimum Gene Length Actually"
   ]
  },
  {
   "cell_type": "code",
   "execution_count": 12,
   "metadata": {
    "hidden": true,
    "scrolled": true
   },
   "outputs": [
    {
     "data": {
      "text/plain": [
       "70"
      ]
     },
     "execution_count": 12,
     "metadata": {},
     "output_type": "execute_result"
    }
   ],
   "source": [
    "min(abs(target_true_genes.end - target_true_genes.start))"
   ]
  },
  {
   "cell_type": "markdown",
   "metadata": {
    "heading_collapsed": true
   },
   "source": [
    "## RATT"
   ]
  },
  {
   "cell_type": "code",
   "execution_count": 13,
   "metadata": {},
   "outputs": [],
   "source": [
    "ratt_command = '$RATT_HOME/start.ratt.sh'"
   ]
  },
  {
   "cell_type": "code",
   "execution_count": 14,
   "metadata": {
    "hidden": true
   },
   "outputs": [
    {
     "name": "stdout",
     "output_type": "stream",
     "text": [
      "Of the reference chromosome Tb_H37Rv\t2.66 per cent\thas no synteny with the query\n",
      "Of the query chromosome gi_148821191_ref_NC_009565.1_\t 3.03 per cent\thas no synteny with the reference\n",
      "Nucmer is done. Now transfer the annotation.\n",
      "perl /home/shonku/ratt/ratt-code/main.ratt.pl embl nucmer.Result.snp nucmer.Result.filter.coords Result\n",
      "working on Tb_H37Rv\n",
      "Overview of transfere of annotation elements:\n",
      "9557\telements found.\n",
      "9294\tElements were transfered.\n",
      "0\tElements could be transfered partially.\n",
      "0\tElements split.\n",
      "263\tParts of elements (i.e.exons tRNA) not transferred.\n",
      "263\tElements couldn't be transferred.\n",
      "\n",
      "CDS:\n",
      "3999\tGene models to transfer.\n",
      "3898\tGene models transferred correctly.\n",
      "0\tGene models partially transferred.\n",
      "0\tExons not transferred from partial CDS matches.\n",
      "101\tGene models not transferred.\n",
      "\n",
      "1 Sequences where generated\n",
      "Done.\n",
      "Nucmer is done. Now Correct the annotation for chromosome .\n",
      "work on gi_148821191_ref_NC_009565.1_\n",
      "************************ Correction *****\n",
      "Using the default specifications for start/codons and splice sites.\n",
      "done.\n",
      "Please see the file Result.gi_148821191_ref_NC_009565.1_.Report.txt for reporting the errors and the file Result.gi_148821191_ref_NC_009565.1_.Report.gff for reporting the error in Artemis or other sequence viewer.\n",
      "************************ \n",
      "If you want to start artemis on this replicon:\n",
      "art Result.gi_148821191_ref_NC_009565.1_.final.embl + Result.gi_148821191_ref_NC_009565.1_.Report.gff  + Query/Result.gi_148821191_ref_NC_009565.1_.Mutations.gff\n"
     ]
    }
   ],
   "source": [
    "!$ratt_command embl $target_seq Result $mode"
   ]
  },
  {
   "cell_type": "code",
   "execution_count": 15,
   "metadata": {
    "hidden": true
   },
   "outputs": [],
   "source": [
    "ratt_final = glob.glob('*.final.embl')[0]"
   ]
  },
  {
   "cell_type": "code",
   "execution_count": 16,
   "metadata": {
    "hidden": true
   },
   "outputs": [],
   "source": [
    "ref_embl = glob.glob('embl/*.embl')[0]"
   ]
  },
  {
   "cell_type": "code",
   "execution_count": 17,
   "metadata": {
    "hidden": true
   },
   "outputs": [],
   "source": [
    "!python embl_locus.py $ratt_final locus > target_ratt_genes.coords"
   ]
  },
  {
   "cell_type": "code",
   "execution_count": 18,
   "metadata": {
    "hidden": true
   },
   "outputs": [],
   "source": [
    "target_ratt_genes = pd.read_csv('target_ratt_genes.coords', header=None, delim_whitespace=True)\n",
    "target_ratt_genes.columns = ['id', 'start', 'end', 'locus_tag']"
   ]
  },
  {
   "cell_type": "code",
   "execution_count": 19,
   "metadata": {
    "hidden": true
   },
   "outputs": [
    {
     "data": {
      "text/html": [
       "<div>\n",
       "<style scoped>\n",
       "    .dataframe tbody tr th:only-of-type {\n",
       "        vertical-align: middle;\n",
       "    }\n",
       "\n",
       "    .dataframe tbody tr th {\n",
       "        vertical-align: top;\n",
       "    }\n",
       "\n",
       "    .dataframe thead th {\n",
       "        text-align: right;\n",
       "    }\n",
       "</style>\n",
       "<table border=\"1\" class=\"dataframe\">\n",
       "  <thead>\n",
       "    <tr style=\"text-align: right;\">\n",
       "      <th></th>\n",
       "      <th>id</th>\n",
       "      <th>start</th>\n",
       "      <th>end</th>\n",
       "      <th>locus_tag</th>\n",
       "    </tr>\n",
       "  </thead>\n",
       "  <tbody>\n",
       "    <tr>\n",
       "      <th>0</th>\n",
       "      <td>1</td>\n",
       "      <td>102</td>\n",
       "      <td>1625</td>\n",
       "      <td>Rv0001</td>\n",
       "    </tr>\n",
       "    <tr>\n",
       "      <th>1</th>\n",
       "      <td>2</td>\n",
       "      <td>2153</td>\n",
       "      <td>3361</td>\n",
       "      <td>Rv0002</td>\n",
       "    </tr>\n",
       "    <tr>\n",
       "      <th>2</th>\n",
       "      <td>3</td>\n",
       "      <td>3381</td>\n",
       "      <td>4538</td>\n",
       "      <td>Rv0003</td>\n",
       "    </tr>\n",
       "    <tr>\n",
       "      <th>3</th>\n",
       "      <td>4</td>\n",
       "      <td>4535</td>\n",
       "      <td>5098</td>\n",
       "      <td>Rv0004</td>\n",
       "    </tr>\n",
       "    <tr>\n",
       "      <th>4</th>\n",
       "      <td>5</td>\n",
       "      <td>5224</td>\n",
       "      <td>7368</td>\n",
       "      <td>Rv0005</td>\n",
       "    </tr>\n",
       "  </tbody>\n",
       "</table>\n",
       "</div>"
      ],
      "text/plain": [
       "   id  start   end locus_tag\n",
       "0   1    102  1625    Rv0001\n",
       "1   2   2153  3361    Rv0002\n",
       "2   3   3381  4538    Rv0003\n",
       "3   4   4535  5098    Rv0004\n",
       "4   5   5224  7368    Rv0005"
      ]
     },
     "execution_count": 19,
     "metadata": {},
     "output_type": "execute_result"
    }
   ],
   "source": [
    "target_ratt_genes.head()"
   ]
  },
  {
   "cell_type": "code",
   "execution_count": 20,
   "metadata": {
    "hidden": true
   },
   "outputs": [
    {
     "data": {
      "text/plain": [
       "(3898, 4)"
      ]
     },
     "execution_count": 20,
     "metadata": {},
     "output_type": "execute_result"
    }
   ],
   "source": [
    "target_ratt_genes.shape"
   ]
  },
  {
   "cell_type": "markdown",
   "metadata": {
    "hidden": true
   },
   "source": [
    "### Genes Left to Discover"
   ]
  },
  {
   "cell_type": "code",
   "execution_count": 21,
   "metadata": {
    "hidden": true
   },
   "outputs": [
    {
     "data": {
      "text/plain": [
       "93"
      ]
     },
     "execution_count": 21,
     "metadata": {},
     "output_type": "execute_result"
    }
   ],
   "source": [
    "target_true_genes.shape[0] - target_ratt_genes.shape[0]"
   ]
  },
  {
   "cell_type": "markdown",
   "metadata": {},
   "source": [
    "## Exclude Not Transferred Genes"
   ]
  },
  {
   "cell_type": "markdown",
   "metadata": {},
   "source": [
    "### Extracting Genes from Reference"
   ]
  },
  {
   "cell_type": "code",
   "execution_count": 34,
   "metadata": {},
   "outputs": [],
   "source": [
    "!python embl_locus.py $ref_embl locus > ref_genes.coords"
   ]
  },
  {
   "cell_type": "code",
   "execution_count": 35,
   "metadata": {},
   "outputs": [],
   "source": [
    "ref_genes = pd.read_csv('ref_genes.coords', header=None, delim_whitespace=True)\n",
    "ref_genes.columns = ['id', 'start', 'end', 'locus_tag']"
   ]
  },
  {
   "cell_type": "code",
   "execution_count": 36,
   "metadata": {},
   "outputs": [
    {
     "data": {
      "text/plain": [
       "(3999, 4)"
      ]
     },
     "execution_count": 36,
     "metadata": {},
     "output_type": "execute_result"
    }
   ],
   "source": [
    "ref_genes.shape"
   ]
  },
  {
   "cell_type": "code",
   "execution_count": 37,
   "metadata": {},
   "outputs": [
    {
     "data": {
      "text/html": [
       "<div>\n",
       "<style scoped>\n",
       "    .dataframe tbody tr th:only-of-type {\n",
       "        vertical-align: middle;\n",
       "    }\n",
       "\n",
       "    .dataframe tbody tr th {\n",
       "        vertical-align: top;\n",
       "    }\n",
       "\n",
       "    .dataframe thead th {\n",
       "        text-align: right;\n",
       "    }\n",
       "</style>\n",
       "<table border=\"1\" class=\"dataframe\">\n",
       "  <thead>\n",
       "    <tr style=\"text-align: right;\">\n",
       "      <th></th>\n",
       "      <th>id</th>\n",
       "      <th>start</th>\n",
       "      <th>end</th>\n",
       "      <th>locus_tag</th>\n",
       "    </tr>\n",
       "  </thead>\n",
       "  <tbody>\n",
       "    <tr>\n",
       "      <th>0</th>\n",
       "      <td>1</td>\n",
       "      <td>1</td>\n",
       "      <td>1524</td>\n",
       "      <td>Rv0001</td>\n",
       "    </tr>\n",
       "    <tr>\n",
       "      <th>1</th>\n",
       "      <td>2</td>\n",
       "      <td>2052</td>\n",
       "      <td>3260</td>\n",
       "      <td>Rv0002</td>\n",
       "    </tr>\n",
       "    <tr>\n",
       "      <th>2</th>\n",
       "      <td>3</td>\n",
       "      <td>3280</td>\n",
       "      <td>4437</td>\n",
       "      <td>Rv0003</td>\n",
       "    </tr>\n",
       "    <tr>\n",
       "      <th>3</th>\n",
       "      <td>4</td>\n",
       "      <td>4434</td>\n",
       "      <td>4997</td>\n",
       "      <td>Rv0004</td>\n",
       "    </tr>\n",
       "    <tr>\n",
       "      <th>4</th>\n",
       "      <td>5</td>\n",
       "      <td>5123</td>\n",
       "      <td>7267</td>\n",
       "      <td>Rv0005</td>\n",
       "    </tr>\n",
       "  </tbody>\n",
       "</table>\n",
       "</div>"
      ],
      "text/plain": [
       "   id  start   end locus_tag\n",
       "0   1      1  1524    Rv0001\n",
       "1   2   2052  3260    Rv0002\n",
       "2   3   3280  4437    Rv0003\n",
       "3   4   4434  4997    Rv0004\n",
       "4   5   5123  7267    Rv0005"
      ]
     },
     "execution_count": 37,
     "metadata": {},
     "output_type": "execute_result"
    }
   ],
   "source": [
    "ref_genes.head()"
   ]
  },
  {
   "cell_type": "markdown",
   "metadata": {},
   "source": [
    "### Keeping only the locus tags that are not transferred"
   ]
  },
  {
   "cell_type": "code",
   "execution_count": 40,
   "metadata": {},
   "outputs": [],
   "source": [
    "transferred_locus_tags = set(target_ratt_genes.locus_tag)"
   ]
  },
  {
   "cell_type": "code",
   "execution_count": 43,
   "metadata": {},
   "outputs": [],
   "source": [
    "ref_left_genes_list = []\n",
    "for row in ref_genes.itertuples():\n",
    "    if row.locus_tag not in transferred_locus_tags:\n",
    "        ref_left_genes_list.append(tuple(row[1:]))"
   ]
  },
  {
   "cell_type": "code",
   "execution_count": 44,
   "metadata": {},
   "outputs": [],
   "source": [
    "ref_left_genes = pd.DataFrame(ref_left_genes_list, columns=['id', 'start', 'end', 'locus_tag'])"
   ]
  },
  {
   "cell_type": "code",
   "execution_count": 45,
   "metadata": {},
   "outputs": [
    {
     "data": {
      "text/plain": [
       "(101, 4)"
      ]
     },
     "execution_count": 45,
     "metadata": {},
     "output_type": "execute_result"
    }
   ],
   "source": [
    "ref_left_genes.shape"
   ]
  },
  {
   "cell_type": "code",
   "execution_count": 46,
   "metadata": {},
   "outputs": [
    {
     "data": {
      "text/html": [
       "<div>\n",
       "<style scoped>\n",
       "    .dataframe tbody tr th:only-of-type {\n",
       "        vertical-align: middle;\n",
       "    }\n",
       "\n",
       "    .dataframe tbody tr th {\n",
       "        vertical-align: top;\n",
       "    }\n",
       "\n",
       "    .dataframe thead th {\n",
       "        text-align: right;\n",
       "    }\n",
       "</style>\n",
       "<table border=\"1\" class=\"dataframe\">\n",
       "  <thead>\n",
       "    <tr style=\"text-align: right;\">\n",
       "      <th></th>\n",
       "      <th>id</th>\n",
       "      <th>start</th>\n",
       "      <th>end</th>\n",
       "      <th>locus_tag</th>\n",
       "    </tr>\n",
       "  </thead>\n",
       "  <tbody>\n",
       "    <tr>\n",
       "      <th>0</th>\n",
       "      <td>1345</td>\n",
       "      <td>1484217</td>\n",
       "      <td>1482514</td>\n",
       "      <td>Rv1320c</td>\n",
       "    </tr>\n",
       "    <tr>\n",
       "      <th>1</th>\n",
       "      <td>1346</td>\n",
       "      <td>1484279</td>\n",
       "      <td>1484959</td>\n",
       "      <td>Rv1321</td>\n",
       "    </tr>\n",
       "    <tr>\n",
       "      <th>2</th>\n",
       "      <td>1347</td>\n",
       "      <td>1484982</td>\n",
       "      <td>1485278</td>\n",
       "      <td>Rv1322</td>\n",
       "    </tr>\n",
       "    <tr>\n",
       "      <th>3</th>\n",
       "      <td>1348</td>\n",
       "      <td>1485771</td>\n",
       "      <td>1485313</td>\n",
       "      <td>Rv1322A</td>\n",
       "    </tr>\n",
       "    <tr>\n",
       "      <th>4</th>\n",
       "      <td>1349</td>\n",
       "      <td>1485862</td>\n",
       "      <td>1487031</td>\n",
       "      <td>Rv1323</td>\n",
       "    </tr>\n",
       "  </tbody>\n",
       "</table>\n",
       "</div>"
      ],
      "text/plain": [
       "     id    start      end locus_tag\n",
       "0  1345  1484217  1482514   Rv1320c\n",
       "1  1346  1484279  1484959    Rv1321\n",
       "2  1347  1484982  1485278    Rv1322\n",
       "3  1348  1485771  1485313   Rv1322A\n",
       "4  1349  1485862  1487031    Rv1323"
      ]
     },
     "execution_count": 46,
     "metadata": {},
     "output_type": "execute_result"
    }
   ],
   "source": [
    "ref_left_genes.head()"
   ]
  },
  {
   "cell_type": "code",
   "execution_count": 47,
   "metadata": {},
   "outputs": [],
   "source": [
    "save_as_coord(ref_left_genes, 'ref_left_genes.coords')"
   ]
  },
  {
   "cell_type": "markdown",
   "metadata": {},
   "source": [
    "### Generating Multi Fasta"
   ]
  },
  {
   "cell_type": "code",
   "execution_count": 49,
   "metadata": {},
   "outputs": [],
   "source": [
    "ref_seq = glob.glob('Reference.*.fasta')[0]"
   ]
  },
  {
   "cell_type": "code",
   "execution_count": 51,
   "metadata": {},
   "outputs": [],
   "source": [
    "!extract -t $ref_seq ref_left_genes.coords > ref_left_genes.fasta"
   ]
  },
  {
   "cell_type": "markdown",
   "metadata": {
    "heading_collapsed": true
   },
   "source": [
    "## Glimmer long-orfs Output\n",
    "\n",
    "Long orf is operated on default minimum length.\n",
    "\n",
    "This has to be changed."
   ]
  },
  {
   "cell_type": "code",
   "execution_count": 22,
   "metadata": {
    "hidden": true
   },
   "outputs": [
    {
     "name": "stdout",
     "output_type": "stream",
     "text": [
      "Starting at Wed Jan 15 21:26:34 2020\n",
      "\n",
      "Sequence file = F11.fasta\n",
      "Excluded regions file = none\n",
      "Circular genome = true\n",
      "Initial minimum gene length = 90 bp\n",
      "Determine optimal min gene length to maximize number of genes\n",
      "Maximum overlap bases = 30\n",
      "Start codons = atg,gtg,ttg\n",
      "Stop codons = taa,tag,tga\n",
      "Sequence length = 4424435\n",
      "Final minimum gene length = 727\n",
      "Number of genes = 1565\n",
      "Total bases = 2037894\n"
     ]
    }
   ],
   "source": [
    "!long-orfs -n -t 1.15 $target_seq target_orfs.coords"
   ]
  },
  {
   "cell_type": "code",
   "execution_count": 24,
   "metadata": {
    "hidden": true
   },
   "outputs": [],
   "source": [
    "target_orfs = pd.read_csv('target_orfs.coords', header=None, delim_whitespace=True)"
   ]
  },
  {
   "cell_type": "code",
   "execution_count": 25,
   "metadata": {
    "hidden": true
   },
   "outputs": [],
   "source": [
    "target_orfs.columns = ['id', 'start', 'end', 'dir', 'score']"
   ]
  },
  {
   "cell_type": "code",
   "execution_count": 26,
   "metadata": {
    "hidden": true
   },
   "outputs": [
    {
     "data": {
      "text/html": [
       "<div>\n",
       "<style scoped>\n",
       "    .dataframe tbody tr th:only-of-type {\n",
       "        vertical-align: middle;\n",
       "    }\n",
       "\n",
       "    .dataframe tbody tr th {\n",
       "        vertical-align: top;\n",
       "    }\n",
       "\n",
       "    .dataframe thead th {\n",
       "        text-align: right;\n",
       "    }\n",
       "</style>\n",
       "<table border=\"1\" class=\"dataframe\">\n",
       "  <thead>\n",
       "    <tr style=\"text-align: right;\">\n",
       "      <th></th>\n",
       "      <th>id</th>\n",
       "      <th>start</th>\n",
       "      <th>end</th>\n",
       "      <th>dir</th>\n",
       "      <th>score</th>\n",
       "    </tr>\n",
       "  </thead>\n",
       "  <tbody>\n",
       "    <tr>\n",
       "      <th>0</th>\n",
       "      <td>1</td>\n",
       "      <td>102</td>\n",
       "      <td>1625</td>\n",
       "      <td>3</td>\n",
       "      <td>0.729</td>\n",
       "    </tr>\n",
       "    <tr>\n",
       "      <th>1</th>\n",
       "      <td>2</td>\n",
       "      <td>2153</td>\n",
       "      <td>3361</td>\n",
       "      <td>2</td>\n",
       "      <td>0.719</td>\n",
       "    </tr>\n",
       "    <tr>\n",
       "      <th>2</th>\n",
       "      <td>3</td>\n",
       "      <td>3381</td>\n",
       "      <td>4538</td>\n",
       "      <td>3</td>\n",
       "      <td>0.935</td>\n",
       "    </tr>\n",
       "    <tr>\n",
       "      <th>3</th>\n",
       "      <td>4</td>\n",
       "      <td>5224</td>\n",
       "      <td>7368</td>\n",
       "      <td>1</td>\n",
       "      <td>0.638</td>\n",
       "    </tr>\n",
       "    <tr>\n",
       "      <th>4</th>\n",
       "      <td>5</td>\n",
       "      <td>7403</td>\n",
       "      <td>9919</td>\n",
       "      <td>2</td>\n",
       "      <td>0.823</td>\n",
       "    </tr>\n",
       "  </tbody>\n",
       "</table>\n",
       "</div>"
      ],
      "text/plain": [
       "   id  start   end  dir  score\n",
       "0   1    102  1625    3  0.729\n",
       "1   2   2153  3361    2  0.719\n",
       "2   3   3381  4538    3  0.935\n",
       "3   4   5224  7368    1  0.638\n",
       "4   5   7403  9919    2  0.823"
      ]
     },
     "execution_count": 26,
     "metadata": {},
     "output_type": "execute_result"
    }
   ],
   "source": [
    "target_orfs.head()"
   ]
  },
  {
   "cell_type": "code",
   "execution_count": 27,
   "metadata": {
    "hidden": true
   },
   "outputs": [
    {
     "data": {
      "text/plain": [
       "(1565, 5)"
      ]
     },
     "execution_count": 27,
     "metadata": {},
     "output_type": "execute_result"
    }
   ],
   "source": [
    "target_orfs.shape"
   ]
  },
  {
   "cell_type": "markdown",
   "metadata": {
    "heading_collapsed": true
   },
   "source": [
    "## Find potential New Genes by Excluding RATT discovered ones\n",
    "\n",
    "For each from `target_orfs`, if it has some overlap on any subseqs of `target_ratt_genes`, discard it."
   ]
  },
  {
   "cell_type": "code",
   "execution_count": 107,
   "metadata": {
    "hidden": true
   },
   "outputs": [],
   "source": [
    "tree = IntervalTree()"
   ]
  },
  {
   "cell_type": "code",
   "execution_count": 108,
   "metadata": {
    "hidden": true
   },
   "outputs": [],
   "source": [
    "for row in target_ratt_genes.itertuples():\n",
    "    s, e = row.start, row.end\n",
    "    if s > e: s, e = e, s\n",
    "    tree.add(Interval(s, e, row.id))"
   ]
  },
  {
   "cell_type": "code",
   "execution_count": 109,
   "metadata": {
    "hidden": true
   },
   "outputs": [],
   "source": [
    "target_potn_genes_list = []\n",
    "Id = 1\n",
    "for row in target_orfs.itertuples():\n",
    "    if len(tree[row.start]) > 0: continue\n",
    "    if len(tree[row.end]) > 0: continue\n",
    "    if len(tree[row.start:row.end]) > 0: continue\n",
    "    if len(tree[row.end:row.start]) > 0: continue\n",
    "    target_potn_genes_list.append((row.id, row.start, row.end))\n",
    "    Id += 1"
   ]
  },
  {
   "cell_type": "code",
   "execution_count": 110,
   "metadata": {
    "hidden": true
   },
   "outputs": [],
   "source": [
    "target_potn_genes = pd.DataFrame(target_potn_genes_list, columns=['id', 'start', 'end'])"
   ]
  },
  {
   "cell_type": "code",
   "execution_count": 111,
   "metadata": {
    "hidden": true
   },
   "outputs": [
    {
     "data": {
      "text/html": [
       "<div>\n",
       "<style scoped>\n",
       "    .dataframe tbody tr th:only-of-type {\n",
       "        vertical-align: middle;\n",
       "    }\n",
       "\n",
       "    .dataframe tbody tr th {\n",
       "        vertical-align: top;\n",
       "    }\n",
       "\n",
       "    .dataframe thead th {\n",
       "        text-align: right;\n",
       "    }\n",
       "</style>\n",
       "<table border=\"1\" class=\"dataframe\">\n",
       "  <thead>\n",
       "    <tr style=\"text-align: right;\">\n",
       "      <th></th>\n",
       "      <th>id</th>\n",
       "      <th>start</th>\n",
       "      <th>end</th>\n",
       "    </tr>\n",
       "  </thead>\n",
       "  <tbody>\n",
       "    <tr>\n",
       "      <th>0</th>\n",
       "      <td>10</td>\n",
       "      <td>26982</td>\n",
       "      <td>26014</td>\n",
       "    </tr>\n",
       "    <tr>\n",
       "      <th>1</th>\n",
       "      <td>231</td>\n",
       "      <td>661546</td>\n",
       "      <td>662568</td>\n",
       "    </tr>\n",
       "    <tr>\n",
       "      <th>2</th>\n",
       "      <td>286</td>\n",
       "      <td>854596</td>\n",
       "      <td>855369</td>\n",
       "    </tr>\n",
       "    <tr>\n",
       "      <th>3</th>\n",
       "      <td>332</td>\n",
       "      <td>944993</td>\n",
       "      <td>946282</td>\n",
       "    </tr>\n",
       "    <tr>\n",
       "      <th>4</th>\n",
       "      <td>366</td>\n",
       "      <td>1030642</td>\n",
       "      <td>1029323</td>\n",
       "    </tr>\n",
       "  </tbody>\n",
       "</table>\n",
       "</div>"
      ],
      "text/plain": [
       "    id    start      end\n",
       "0   10    26982    26014\n",
       "1  231   661546   662568\n",
       "2  286   854596   855369\n",
       "3  332   944993   946282\n",
       "4  366  1030642  1029323"
      ]
     },
     "execution_count": 111,
     "metadata": {},
     "output_type": "execute_result"
    }
   ],
   "source": [
    "target_potn_genes.head()"
   ]
  },
  {
   "cell_type": "code",
   "execution_count": 112,
   "metadata": {
    "hidden": true
   },
   "outputs": [
    {
     "data": {
      "text/plain": [
       "(49, 3)"
      ]
     },
     "execution_count": 112,
     "metadata": {},
     "output_type": "execute_result"
    }
   ],
   "source": [
    "target_potn_genes.shape"
   ]
  },
  {
   "cell_type": "code",
   "execution_count": 113,
   "metadata": {
    "hidden": true
   },
   "outputs": [],
   "source": [
    "save_as_coord(target_potn_genes, 'target_potn_genes.coords')"
   ]
  },
  {
   "cell_type": "code",
   "execution_count": 114,
   "metadata": {},
   "outputs": [],
   "source": [
    "!extract -t $target_seq target_potn_genes.coords > target_potn_genes.fasta"
   ]
  },
  {
   "cell_type": "markdown",
   "metadata": {},
   "source": [
    "## Blast"
   ]
  },
  {
   "cell_type": "code",
   "execution_count": 52,
   "metadata": {},
   "outputs": [
    {
     "name": "stdout",
     "output_type": "stream",
     "text": [
      "\r\n",
      "\r\n",
      "Building a new DB, current time: 01/15/2020 21:39:29\r\n",
      "New DB name:   /home/shonku/Project/Tb/refleftblastdb\r\n",
      "New DB title:  ref_left_genes.fasta\r\n",
      "Sequence type: Nucleotide\r\n",
      "Keep MBits: T\r\n",
      "Maximum file size: 1000000000B\r\n",
      "Adding sequences from FASTA; added 101 sequences in 0.00926709 seconds.\r\n",
      "\r\n",
      "\r\n"
     ]
    }
   ],
   "source": [
    "!makeblastdb -in ref_left_genes.fasta -out refleftblastdb -parse_seqids -dbtype nucl"
   ]
  },
  {
   "cell_type": "code",
   "execution_count": 115,
   "metadata": {},
   "outputs": [],
   "source": [
    "!blastn -outfmt 6 -db refleftblastdb -query target_potn_genes.fasta -out refleftblasts.out"
   ]
  },
  {
   "cell_type": "code",
   "execution_count": 116,
   "metadata": {},
   "outputs": [],
   "source": [
    "refleftblasts = pd.read_csv('refleftblasts.out', header=None, delim_whitespace=True)"
   ]
  },
  {
   "cell_type": "code",
   "execution_count": 117,
   "metadata": {},
   "outputs": [],
   "source": [
    "refleftblasts.columns = [\n",
    "    'qseqid', 'sseqid', 'pident', 'length',\n",
    "    'mismatch', 'gapopen', 'qstart', 'qend',\n",
    "    'sstart', 'send', 'evalue', 'bitscore'\n",
    "]"
   ]
  },
  {
   "cell_type": "code",
   "execution_count": 118,
   "metadata": {},
   "outputs": [
    {
     "data": {
      "text/plain": [
       "(37, 12)"
      ]
     },
     "execution_count": 118,
     "metadata": {},
     "output_type": "execute_result"
    }
   ],
   "source": [
    "refleftblasts.shape"
   ]
  },
  {
   "cell_type": "markdown",
   "metadata": {},
   "source": [
    "### Remove Duplicate Mapping Keeping the High Scored Ones"
   ]
  },
  {
   "cell_type": "code",
   "execution_count": 119,
   "metadata": {},
   "outputs": [],
   "source": [
    "refleftblasts.sort_values(by=['bitscore'], ascending=False, inplace=True)"
   ]
  },
  {
   "cell_type": "code",
   "execution_count": 120,
   "metadata": {},
   "outputs": [],
   "source": [
    "refleftblasts.drop_duplicates(subset='qseqid', keep='first', inplace=True)"
   ]
  },
  {
   "cell_type": "code",
   "execution_count": 121,
   "metadata": {},
   "outputs": [],
   "source": [
    "refleftblasts.drop_duplicates(subset='sseqid', keep='first', inplace=True)"
   ]
  },
  {
   "cell_type": "code",
   "execution_count": 122,
   "metadata": {},
   "outputs": [
    {
     "data": {
      "text/plain": [
       "(26, 12)"
      ]
     },
     "execution_count": 122,
     "metadata": {},
     "output_type": "execute_result"
    }
   ],
   "source": [
    "refleftblasts.shape"
   ]
  },
  {
   "cell_type": "code",
   "execution_count": 123,
   "metadata": {},
   "outputs": [
    {
     "data": {
      "text/html": [
       "<div>\n",
       "<style scoped>\n",
       "    .dataframe tbody tr th:only-of-type {\n",
       "        vertical-align: middle;\n",
       "    }\n",
       "\n",
       "    .dataframe tbody tr th {\n",
       "        vertical-align: top;\n",
       "    }\n",
       "\n",
       "    .dataframe thead th {\n",
       "        text-align: right;\n",
       "    }\n",
       "</style>\n",
       "<table border=\"1\" class=\"dataframe\">\n",
       "  <thead>\n",
       "    <tr style=\"text-align: right;\">\n",
       "      <th></th>\n",
       "      <th>qseqid</th>\n",
       "      <th>sseqid</th>\n",
       "      <th>pident</th>\n",
       "      <th>length</th>\n",
       "      <th>mismatch</th>\n",
       "      <th>gapopen</th>\n",
       "      <th>qstart</th>\n",
       "      <th>qend</th>\n",
       "      <th>sstart</th>\n",
       "      <th>send</th>\n",
       "      <th>evalue</th>\n",
       "      <th>bitscore</th>\n",
       "    </tr>\n",
       "  </thead>\n",
       "  <tbody>\n",
       "    <tr>\n",
       "      <th>20</th>\n",
       "      <td>1311</td>\n",
       "      <td>3362</td>\n",
       "      <td>100.0</td>\n",
       "      <td>4539</td>\n",
       "      <td>0</td>\n",
       "      <td>0</td>\n",
       "      <td>1</td>\n",
       "      <td>4539</td>\n",
       "      <td>1</td>\n",
       "      <td>4539</td>\n",
       "      <td>0.0</td>\n",
       "      <td>8383.0</td>\n",
       "    </tr>\n",
       "    <tr>\n",
       "      <th>3</th>\n",
       "      <td>550</td>\n",
       "      <td>1354</td>\n",
       "      <td>100.0</td>\n",
       "      <td>2589</td>\n",
       "      <td>0</td>\n",
       "      <td>0</td>\n",
       "      <td>1</td>\n",
       "      <td>2589</td>\n",
       "      <td>1</td>\n",
       "      <td>2589</td>\n",
       "      <td>0.0</td>\n",
       "      <td>4782.0</td>\n",
       "    </tr>\n",
       "    <tr>\n",
       "      <th>1</th>\n",
       "      <td>548</td>\n",
       "      <td>1352</td>\n",
       "      <td>100.0</td>\n",
       "      <td>2193</td>\n",
       "      <td>0</td>\n",
       "      <td>0</td>\n",
       "      <td>1</td>\n",
       "      <td>2193</td>\n",
       "      <td>1</td>\n",
       "      <td>2193</td>\n",
       "      <td>0.0</td>\n",
       "      <td>4050.0</td>\n",
       "    </tr>\n",
       "    <tr>\n",
       "      <th>2</th>\n",
       "      <td>549</td>\n",
       "      <td>1353</td>\n",
       "      <td>100.0</td>\n",
       "      <td>2103</td>\n",
       "      <td>0</td>\n",
       "      <td>0</td>\n",
       "      <td>109</td>\n",
       "      <td>2211</td>\n",
       "      <td>1</td>\n",
       "      <td>2103</td>\n",
       "      <td>0.0</td>\n",
       "      <td>3884.0</td>\n",
       "    </tr>\n",
       "    <tr>\n",
       "      <th>4</th>\n",
       "      <td>551</td>\n",
       "      <td>1355</td>\n",
       "      <td>100.0</td>\n",
       "      <td>1992</td>\n",
       "      <td>0</td>\n",
       "      <td>0</td>\n",
       "      <td>1</td>\n",
       "      <td>1992</td>\n",
       "      <td>1</td>\n",
       "      <td>1992</td>\n",
       "      <td>0.0</td>\n",
       "      <td>3679.0</td>\n",
       "    </tr>\n",
       "  </tbody>\n",
       "</table>\n",
       "</div>"
      ],
      "text/plain": [
       "    qseqid  sseqid  pident  length  mismatch  gapopen  qstart  qend  sstart  \\\n",
       "20    1311    3362   100.0    4539         0        0       1  4539       1   \n",
       "3      550    1354   100.0    2589         0        0       1  2589       1   \n",
       "1      548    1352   100.0    2193         0        0       1  2193       1   \n",
       "2      549    1353   100.0    2103         0        0     109  2211       1   \n",
       "4      551    1355   100.0    1992         0        0       1  1992       1   \n",
       "\n",
       "    send  evalue  bitscore  \n",
       "20  4539     0.0    8383.0  \n",
       "3   2589     0.0    4782.0  \n",
       "1   2193     0.0    4050.0  \n",
       "2   2103     0.0    3884.0  \n",
       "4   1992     0.0    3679.0  "
      ]
     },
     "execution_count": 123,
     "metadata": {},
     "output_type": "execute_result"
    }
   ],
   "source": [
    "refleftblasts.head()"
   ]
  },
  {
   "cell_type": "markdown",
   "metadata": {},
   "source": [
    "## Annotation by Matching ID\n",
    "\n",
    "`qseqid` matched from `target_orfs`.\n",
    "\n",
    "`sseqid` matched from `ref_genes`."
   ]
  },
  {
   "cell_type": "code",
   "execution_count": 124,
   "metadata": {},
   "outputs": [
    {
     "data": {
      "text/html": [
       "<div>\n",
       "<style scoped>\n",
       "    .dataframe tbody tr th:only-of-type {\n",
       "        vertical-align: middle;\n",
       "    }\n",
       "\n",
       "    .dataframe tbody tr th {\n",
       "        vertical-align: top;\n",
       "    }\n",
       "\n",
       "    .dataframe thead th {\n",
       "        text-align: right;\n",
       "    }\n",
       "</style>\n",
       "<table border=\"1\" class=\"dataframe\">\n",
       "  <thead>\n",
       "    <tr style=\"text-align: right;\">\n",
       "      <th></th>\n",
       "      <th>id</th>\n",
       "      <th>start</th>\n",
       "      <th>end</th>\n",
       "      <th>dir</th>\n",
       "      <th>score</th>\n",
       "    </tr>\n",
       "  </thead>\n",
       "  <tbody>\n",
       "    <tr>\n",
       "      <th>0</th>\n",
       "      <td>1</td>\n",
       "      <td>102</td>\n",
       "      <td>1625</td>\n",
       "      <td>3</td>\n",
       "      <td>0.729</td>\n",
       "    </tr>\n",
       "    <tr>\n",
       "      <th>1</th>\n",
       "      <td>2</td>\n",
       "      <td>2153</td>\n",
       "      <td>3361</td>\n",
       "      <td>2</td>\n",
       "      <td>0.719</td>\n",
       "    </tr>\n",
       "    <tr>\n",
       "      <th>2</th>\n",
       "      <td>3</td>\n",
       "      <td>3381</td>\n",
       "      <td>4538</td>\n",
       "      <td>3</td>\n",
       "      <td>0.935</td>\n",
       "    </tr>\n",
       "    <tr>\n",
       "      <th>3</th>\n",
       "      <td>4</td>\n",
       "      <td>5224</td>\n",
       "      <td>7368</td>\n",
       "      <td>1</td>\n",
       "      <td>0.638</td>\n",
       "    </tr>\n",
       "    <tr>\n",
       "      <th>4</th>\n",
       "      <td>5</td>\n",
       "      <td>7403</td>\n",
       "      <td>9919</td>\n",
       "      <td>2</td>\n",
       "      <td>0.823</td>\n",
       "    </tr>\n",
       "  </tbody>\n",
       "</table>\n",
       "</div>"
      ],
      "text/plain": [
       "   id  start   end  dir  score\n",
       "0   1    102  1625    3  0.729\n",
       "1   2   2153  3361    2  0.719\n",
       "2   3   3381  4538    3  0.935\n",
       "3   4   5224  7368    1  0.638\n",
       "4   5   7403  9919    2  0.823"
      ]
     },
     "execution_count": 124,
     "metadata": {},
     "output_type": "execute_result"
    }
   ],
   "source": [
    "target_orfs.head()"
   ]
  },
  {
   "cell_type": "code",
   "execution_count": 125,
   "metadata": {},
   "outputs": [
    {
     "data": {
      "text/html": [
       "<div>\n",
       "<style scoped>\n",
       "    .dataframe tbody tr th:only-of-type {\n",
       "        vertical-align: middle;\n",
       "    }\n",
       "\n",
       "    .dataframe tbody tr th {\n",
       "        vertical-align: top;\n",
       "    }\n",
       "\n",
       "    .dataframe thead th {\n",
       "        text-align: right;\n",
       "    }\n",
       "</style>\n",
       "<table border=\"1\" class=\"dataframe\">\n",
       "  <thead>\n",
       "    <tr style=\"text-align: right;\">\n",
       "      <th></th>\n",
       "      <th>id</th>\n",
       "      <th>start</th>\n",
       "      <th>end</th>\n",
       "      <th>locus_tag</th>\n",
       "    </tr>\n",
       "  </thead>\n",
       "  <tbody>\n",
       "    <tr>\n",
       "      <th>0</th>\n",
       "      <td>1</td>\n",
       "      <td>1</td>\n",
       "      <td>1524</td>\n",
       "      <td>Rv0001</td>\n",
       "    </tr>\n",
       "    <tr>\n",
       "      <th>1</th>\n",
       "      <td>2</td>\n",
       "      <td>2052</td>\n",
       "      <td>3260</td>\n",
       "      <td>Rv0002</td>\n",
       "    </tr>\n",
       "    <tr>\n",
       "      <th>2</th>\n",
       "      <td>3</td>\n",
       "      <td>3280</td>\n",
       "      <td>4437</td>\n",
       "      <td>Rv0003</td>\n",
       "    </tr>\n",
       "    <tr>\n",
       "      <th>3</th>\n",
       "      <td>4</td>\n",
       "      <td>4434</td>\n",
       "      <td>4997</td>\n",
       "      <td>Rv0004</td>\n",
       "    </tr>\n",
       "    <tr>\n",
       "      <th>4</th>\n",
       "      <td>5</td>\n",
       "      <td>5123</td>\n",
       "      <td>7267</td>\n",
       "      <td>Rv0005</td>\n",
       "    </tr>\n",
       "  </tbody>\n",
       "</table>\n",
       "</div>"
      ],
      "text/plain": [
       "   id  start   end locus_tag\n",
       "0   1      1  1524    Rv0001\n",
       "1   2   2052  3260    Rv0002\n",
       "2   3   3280  4437    Rv0003\n",
       "3   4   4434  4997    Rv0004\n",
       "4   5   5123  7267    Rv0005"
      ]
     },
     "execution_count": 125,
     "metadata": {},
     "output_type": "execute_result"
    }
   ],
   "source": [
    "ref_genes.head()"
   ]
  },
  {
   "cell_type": "code",
   "execution_count": 126,
   "metadata": {},
   "outputs": [],
   "source": [
    "fast_ref_genes = ref_genes.set_index('id')\n",
    "fast_target_orfs = target_orfs.set_index('id')"
   ]
  },
  {
   "cell_type": "code",
   "execution_count": 137,
   "metadata": {},
   "outputs": [],
   "source": [
    "target_new_genes_list = []\n",
    "count = 1\n",
    "for row in refleftblasts.itertuples():\n",
    "    start, end = fast_target_orfs.loc[row.qseqid, ['start', 'end']]\n",
    "    Id = 'n' + str(count)\n",
    "    target_new_genes_list.append((Id, int(start), int(end), fast_ref_genes.loc[row.sseqid].locus_tag))\n",
    "    count += 1"
   ]
  },
  {
   "cell_type": "code",
   "execution_count": 138,
   "metadata": {},
   "outputs": [],
   "source": [
    "target_new_genes = pd.DataFrame(target_new_genes_list, columns=['id', 'start', 'end', 'locus_tag'])"
   ]
  },
  {
   "cell_type": "code",
   "execution_count": 140,
   "metadata": {
    "scrolled": true
   },
   "outputs": [
    {
     "data": {
      "text/html": [
       "<div>\n",
       "<style scoped>\n",
       "    .dataframe tbody tr th:only-of-type {\n",
       "        vertical-align: middle;\n",
       "    }\n",
       "\n",
       "    .dataframe tbody tr th {\n",
       "        vertical-align: top;\n",
       "    }\n",
       "\n",
       "    .dataframe thead th {\n",
       "        text-align: right;\n",
       "    }\n",
       "</style>\n",
       "<table border=\"1\" class=\"dataframe\">\n",
       "  <thead>\n",
       "    <tr style=\"text-align: right;\">\n",
       "      <th></th>\n",
       "      <th>id</th>\n",
       "      <th>start</th>\n",
       "      <th>end</th>\n",
       "      <th>locus_tag</th>\n",
       "    </tr>\n",
       "  </thead>\n",
       "  <tbody>\n",
       "    <tr>\n",
       "      <th>0</th>\n",
       "      <td>n1</td>\n",
       "      <td>3688490</td>\n",
       "      <td>3693031</td>\n",
       "      <td>Rv3296</td>\n",
       "    </tr>\n",
       "    <tr>\n",
       "      <th>1</th>\n",
       "      <td>n2</td>\n",
       "      <td>1501362</td>\n",
       "      <td>1503953</td>\n",
       "      <td>Rv1328</td>\n",
       "    </tr>\n",
       "    <tr>\n",
       "      <th>2</th>\n",
       "      <td>n3</td>\n",
       "      <td>1499110</td>\n",
       "      <td>1496915</td>\n",
       "      <td>Rv1326c</td>\n",
       "    </tr>\n",
       "    <tr>\n",
       "      <th>3</th>\n",
       "      <td>n4</td>\n",
       "      <td>1501331</td>\n",
       "      <td>1499118</td>\n",
       "      <td>Rv1327c</td>\n",
       "    </tr>\n",
       "    <tr>\n",
       "      <th>4</th>\n",
       "      <td>n5</td>\n",
       "      <td>1505987</td>\n",
       "      <td>1503993</td>\n",
       "      <td>Rv1329c</td>\n",
       "    </tr>\n",
       "  </tbody>\n",
       "</table>\n",
       "</div>"
      ],
      "text/plain": [
       "   id    start      end locus_tag\n",
       "0  n1  3688490  3693031    Rv3296\n",
       "1  n2  1501362  1503953    Rv1328\n",
       "2  n3  1499110  1496915   Rv1326c\n",
       "3  n4  1501331  1499118   Rv1327c\n",
       "4  n5  1505987  1503993   Rv1329c"
      ]
     },
     "execution_count": 140,
     "metadata": {},
     "output_type": "execute_result"
    }
   ],
   "source": [
    "target_new_genes.head()"
   ]
  },
  {
   "cell_type": "code",
   "execution_count": 194,
   "metadata": {},
   "outputs": [],
   "source": [
    "target_new_genes.to_csv('target_new_genes.csv', index=False)"
   ]
  },
  {
   "cell_type": "markdown",
   "metadata": {},
   "source": [
    "## Proof of Concept"
   ]
  },
  {
   "cell_type": "code",
   "execution_count": 167,
   "metadata": {},
   "outputs": [
    {
     "data": {
      "text/html": [
       "<div>\n",
       "<style scoped>\n",
       "    .dataframe tbody tr th:only-of-type {\n",
       "        vertical-align: middle;\n",
       "    }\n",
       "\n",
       "    .dataframe tbody tr th {\n",
       "        vertical-align: top;\n",
       "    }\n",
       "\n",
       "    .dataframe thead th {\n",
       "        text-align: right;\n",
       "    }\n",
       "</style>\n",
       "<table border=\"1\" class=\"dataframe\">\n",
       "  <thead>\n",
       "    <tr style=\"text-align: right;\">\n",
       "      <th></th>\n",
       "      <th>id</th>\n",
       "      <th>start</th>\n",
       "      <th>end</th>\n",
       "      <th>locus_tag</th>\n",
       "    </tr>\n",
       "  </thead>\n",
       "  <tbody>\n",
       "    <tr>\n",
       "      <th>3349</th>\n",
       "      <td>3350</td>\n",
       "      <td>3688490</td>\n",
       "      <td>3693031</td>\n",
       "      <td>TBFG_13325</td>\n",
       "    </tr>\n",
       "  </tbody>\n",
       "</table>\n",
       "</div>"
      ],
      "text/plain": [
       "        id    start      end   locus_tag\n",
       "3349  3350  3688490  3693031  TBFG_13325"
      ]
     },
     "execution_count": 167,
     "metadata": {},
     "output_type": "execute_result"
    }
   ],
   "source": [
    "target_true_genes.loc[(target_true_genes.start >= 3688490) & (target_true_genes.end <= 3693031)]"
   ]
  },
  {
   "cell_type": "code",
   "execution_count": 168,
   "metadata": {},
   "outputs": [
    {
     "data": {
      "text/html": [
       "<div>\n",
       "<style scoped>\n",
       "    .dataframe tbody tr th:only-of-type {\n",
       "        vertical-align: middle;\n",
       "    }\n",
       "\n",
       "    .dataframe tbody tr th {\n",
       "        vertical-align: top;\n",
       "    }\n",
       "\n",
       "    .dataframe thead th {\n",
       "        text-align: right;\n",
       "    }\n",
       "</style>\n",
       "<table border=\"1\" class=\"dataframe\">\n",
       "  <thead>\n",
       "    <tr style=\"text-align: right;\">\n",
       "      <th></th>\n",
       "      <th>id</th>\n",
       "      <th>start</th>\n",
       "      <th>end</th>\n",
       "      <th>locus_tag</th>\n",
       "    </tr>\n",
       "  </thead>\n",
       "  <tbody>\n",
       "  </tbody>\n",
       "</table>\n",
       "</div>"
      ],
      "text/plain": [
       "Empty DataFrame\n",
       "Columns: [id, start, end, locus_tag]\n",
       "Index: []"
      ]
     },
     "execution_count": 168,
     "metadata": {},
     "output_type": "execute_result"
    }
   ],
   "source": [
    "target_ratt_genes.loc[(target_ratt_genes.start >= 3688000) & (target_ratt_genes.end <= 3693100)]"
   ]
  },
  {
   "cell_type": "markdown",
   "metadata": {},
   "source": [
    "## Evaluate New Genes"
   ]
  },
  {
   "cell_type": "code",
   "execution_count": 158,
   "metadata": {},
   "outputs": [],
   "source": [
    "def interval_overlap(a, b):\n",
    "    return max(0, min(a[1], b[1]) - max(a[0], b[0]))"
   ]
  },
  {
   "cell_type": "code",
   "execution_count": 193,
   "metadata": {},
   "outputs": [
    {
     "name": "stdout",
     "output_type": "stream",
     "text": [
      "(3350, 3688490, 3693031, 'TBFG_13325')\n",
      "('n1', 3688490, 3693031, 'Rv3296')\n",
      "--\n",
      "(1381, 1501362, 1503953, 'TBFG_11360')\n",
      "('n2', 1501362, 1503953, 'Rv1328')\n",
      "--\n",
      "(1379, 1499110, 1496915, 'TBFG_11358')\n",
      "('n3', 1499110, 1496915, 'Rv1326c')\n",
      "--\n",
      "(1380, 1501223, 1499118, 'TBFG_11359')\n",
      "('n4', 1501331, 1499118, 'Rv1327c')\n",
      "--\n",
      "(1382, 1505987, 1503993, 'TBFG_11361')\n",
      "('n5', 1505987, 1503993, 'Rv1329c')\n",
      "--\n",
      "(3339, 3678072, 3679874, 'TBFG_13314')\n",
      "('n6', 3678072, 3679874, 'Rv3285')\n",
      "--\n",
      "(3356, 3701157, 3699400, 'TBFG_13331')\n",
      "('n7', 3701157, 3699400, 'Rv3302c')\n",
      "--\n",
      "(3468, 3840019, 3838283, 'TBFG_13443')\n",
      "('n8', 3840019, 3838283, 'Rv3409c')\n",
      "--\n",
      "(1372, 1491016, 1489313, 'TBFG_11351')\n",
      "('n9', 1491016, 1489313, 'Rv1320c')\n",
      "--\n",
      "(3463, 3835155, 3833554, 'TBFG_13438')\n",
      "('n10', 3835266, 3833554, 'Rv3403c')\n",
      "--\n",
      "(3462, 3833183, 3831945, 'TBFG_13437')\n",
      "('n11', 3833198, 3831945, 'Rv3402c')\n",
      "--\n",
      "(3482, 3852712, 3851486, 'TBFG_13457')\n",
      "('n12', 3852712, 3851486, 'Rv3423c')\n",
      "--\n",
      "(3485, 3857259, 3855175, 'TBFG_13460')\n",
      "('n13', 3857259, 3855175, 'Rv3428c')\n",
      "--\n",
      "(3469, 3841202, 3840075, 'TBFG_13444')\n",
      "('n14', 3841202, 3840075, 'Rv3410c')\n",
      "--\n",
      "(3478, 3849881, 3848847, 'TBFG_13453')\n",
      "('n15', 3849881, 3848847, 'Rv3419c')\n",
      "--\n",
      "(1501, 1639625, 1640551, 'TBFG_11479')\n",
      "('n16', 1639625, 1640551, 'Rv1451')\n",
      "--\n",
      "(3352, 3694739, 3693825, 'TBFG_13327')\n",
      "('n17', 3694739, 3693825, 'Rv3298c')\n",
      "--\n",
      "(3472, 3844337, 3843438, 'TBFG_13447')\n",
      "('n18', 3844355, 3843438, 'Rv3413c')\n",
      "--\n",
      "(3337, 3676643, 3677536, 'TBFG_13312')\n",
      "('n19', 3676571, 3677536, 'Rv3283')\n",
      "--\n",
      "(3382, 3723221, 3722337, 'TBFG_13357')\n",
      "('n20', 3723221, 3722337, 'Rv2167c')\n",
      "--\n",
      "(3466, 3836622, 3837509, 'TBFG_13441')\n",
      "('n21', 3836607, 3837509, 'Rv3406')\n",
      "--\n",
      "(2397, 2649273, 2650157, 'TBFG_12381')\n",
      "('n22', 2649273, 2650157, 'Rv3326')\n",
      "--\n",
      "(2155, 2383993, 2383118, 'TBFG_12142')\n",
      "('n23', 2383993, 2383118, 'Rv2110c')\n",
      "--\n",
      "(3340, 3680669, 3679884, 'TBFG_13315')\n",
      "('n24', 3680669, 3679884, 'Rv3286c')\n",
      "--\n",
      "(2154, 2383121, 2382375, 'TBFG_12141')\n",
      "('n25', 2383121, 2382375, 'Rv2109c')\n",
      "--\n",
      "(3341, 3681292, 3680666, 'TBFG_13316')\n",
      "('n26', 3681529, 3680666, 'Rv3287c')\n",
      "--\n",
      "mean overlap: 1.0\n",
      "new transfer: 26\n"
     ]
    }
   ],
   "source": [
    "buffer = 300\n",
    "total_overlap = 0\n",
    "count = 0\n",
    "for row in target_new_genes.itertuples():\n",
    "    count += 1\n",
    "    start1, start2 = row.start - buffer, row.start + buffer\n",
    "    end1, end2 = row.end - buffer, row.end + buffer\n",
    "    matchs = target_true_genes.loc[(start1 <= target_true_genes.start) & \n",
    "                                   (target_true_genes.start <= start2) &\n",
    "                                   (end1 <= target_true_genes.end) & \n",
    "                                   (target_true_genes.end <= end2)]\n",
    "    \n",
    "    if len(matchs) == 0: continue\n",
    "    if len(matchs) > 1: print(row.id)\n",
    "    match = matchs.iloc[0]\n",
    "    \n",
    "    true_length = abs(match.start - match.end)\n",
    "    pred = sorted([row.start, row.end])\n",
    "    true = sorted([match.start, match.end])\n",
    "    \n",
    "    overlap = interval_overlap(pred, true)\n",
    "    \n",
    "    total_overlap += (overlap / true_length)\n",
    "    \n",
    "    print(tuple(match))\n",
    "    print(tuple(row[1:]))\n",
    "    print('--')\n",
    "\n",
    "print('mean overlap:', total_overlap / count)\n",
    "print('new transfer:', count)"
   ]
  },
  {
   "cell_type": "markdown",
   "metadata": {},
   "source": [
    "## Combined"
   ]
  },
  {
   "cell_type": "code",
   "execution_count": 191,
   "metadata": {},
   "outputs": [],
   "source": [
    "target_final_genes = pd.concat([target_ratt_genes, target_new_genes], axis=0)"
   ]
  },
  {
   "cell_type": "code",
   "execution_count": 192,
   "metadata": {},
   "outputs": [
    {
     "data": {
      "text/plain": [
       "(3924, 4)"
      ]
     },
     "execution_count": 192,
     "metadata": {},
     "output_type": "execute_result"
    }
   ],
   "source": [
    "target_final_genes.shape"
   ]
  },
  {
   "cell_type": "code",
   "execution_count": 195,
   "metadata": {},
   "outputs": [],
   "source": [
    "target_final_genes.to_csv('target_final_genes.csv', index=False)"
   ]
  }
 ],
 "metadata": {
  "kernelspec": {
   "display_name": "Python 3",
   "language": "python",
   "name": "python3"
  },
  "language_info": {
   "codemirror_mode": {
    "name": "ipython",
    "version": 3
   },
   "file_extension": ".py",
   "mimetype": "text/x-python",
   "name": "python",
   "nbconvert_exporter": "python",
   "pygments_lexer": "ipython3",
   "version": "3.6.9"
  },
  "varInspector": {
   "cols": {
    "lenName": 16,
    "lenType": 16,
    "lenVar": 40
   },
   "kernels_config": {
    "python": {
     "delete_cmd_postfix": "",
     "delete_cmd_prefix": "del ",
     "library": "var_list.py",
     "varRefreshCmd": "print(var_dic_list())"
    },
    "r": {
     "delete_cmd_postfix": ") ",
     "delete_cmd_prefix": "rm(",
     "library": "var_list.r",
     "varRefreshCmd": "cat(var_dic_list()) "
    }
   },
   "types_to_exclude": [
    "module",
    "function",
    "builtin_function_or_method",
    "instance",
    "_Feature"
   ],
   "window_display": false
  }
 },
 "nbformat": 4,
 "nbformat_minor": 4
}
